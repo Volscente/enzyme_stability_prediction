{
 "cells": [
  {
   "cell_type": "markdown",
   "id": "7ccf3cd7",
   "metadata": {
    "papermill": {
     "duration": 0.003641,
     "end_time": "2022-09-25T13:30:16.070289",
     "exception": false,
     "start_time": "2022-09-25T13:30:16.066648",
     "status": "completed"
    },
    "tags": []
   },
   "source": [
    "# Introduction\n",
    "\n",
    "Predict the Protein Stability of the provided enzymes."
   ]
  },
  {
   "cell_type": "code",
   "execution_count": 1,
   "id": "522560e4",
   "metadata": {
    "execution": {
     "iopub.execute_input": "2022-09-25T13:30:16.078214Z",
     "iopub.status.busy": "2022-09-25T13:30:16.077054Z",
     "iopub.status.idle": "2022-09-25T13:30:16.090687Z",
     "shell.execute_reply": "2022-09-25T13:30:16.089667Z"
    },
    "papermill": {
     "duration": 0.020657,
     "end_time": "2022-09-25T13:30:16.093563",
     "exception": false,
     "start_time": "2022-09-25T13:30:16.072906",
     "status": "completed"
    },
    "tags": []
   },
   "outputs": [],
   "source": [
    "# Import Standard Libraries\n",
    "import pandas as pd"
   ]
  },
  {
   "cell_type": "markdown",
   "id": "822c08f4",
   "metadata": {
    "papermill": {
     "duration": 0.002172,
     "end_time": "2022-09-25T13:30:16.098350",
     "exception": false,
     "start_time": "2022-09-25T13:30:16.096178",
     "status": "completed"
    },
    "tags": []
   },
   "source": [
    "# Read Data"
   ]
  },
  {
   "cell_type": "markdown",
   "id": "415a6aaf",
   "metadata": {
    "papermill": {
     "duration": 0.002121,
     "end_time": "2022-09-25T13:30:16.103065",
     "exception": false,
     "start_time": "2022-09-25T13:30:16.100944",
     "status": "completed"
    },
    "tags": []
   },
   "source": [
    "## Novozymes Train Data"
   ]
  },
  {
   "cell_type": "code",
   "execution_count": 2,
   "id": "ffd2fa0b",
   "metadata": {
    "execution": {
     "iopub.execute_input": "2022-09-25T13:30:16.109752Z",
     "iopub.status.busy": "2022-09-25T13:30:16.109369Z",
     "iopub.status.idle": "2022-09-25T13:30:16.517728Z",
     "shell.execute_reply": "2022-09-25T13:30:16.516404Z"
    },
    "papermill": {
     "duration": 0.415174,
     "end_time": "2022-09-25T13:30:16.520571",
     "exception": false,
     "start_time": "2022-09-25T13:30:16.105397",
     "status": "completed"
    },
    "tags": []
   },
   "outputs": [],
   "source": [
    "# Read data from Novozymes enzymes\n",
    "enzymes_train = pd.read_csv('../input/novozymes-enzyme-stability-prediction/train.csv')"
   ]
  },
  {
   "cell_type": "code",
   "execution_count": 3,
   "id": "c30513db",
   "metadata": {
    "execution": {
     "iopub.execute_input": "2022-09-25T13:30:16.527413Z",
     "iopub.status.busy": "2022-09-25T13:30:16.526927Z",
     "iopub.status.idle": "2022-09-25T13:30:16.565682Z",
     "shell.execute_reply": "2022-09-25T13:30:16.563954Z"
    },
    "papermill": {
     "duration": 0.045803,
     "end_time": "2022-09-25T13:30:16.568952",
     "exception": false,
     "start_time": "2022-09-25T13:30:16.523149",
     "status": "completed"
    },
    "tags": []
   },
   "outputs": [
    {
     "name": "stdout",
     "output_type": "stream",
     "text": [
      "<class 'pandas.core.frame.DataFrame'>\n",
      "RangeIndex: 31390 entries, 0 to 31389\n",
      "Data columns (total 5 columns):\n",
      " #   Column            Non-Null Count  Dtype  \n",
      "---  ------            --------------  -----  \n",
      " 0   seq_id            31390 non-null  int64  \n",
      " 1   protein_sequence  31390 non-null  object \n",
      " 2   pH                31104 non-null  float64\n",
      " 3   data_source       28043 non-null  object \n",
      " 4   tm                31390 non-null  float64\n",
      "dtypes: float64(2), int64(1), object(2)\n",
      "memory usage: 1.2+ MB\n"
     ]
    }
   ],
   "source": [
    "enzymes_train.info()"
   ]
  },
  {
   "cell_type": "code",
   "execution_count": 4,
   "id": "cf8337aa",
   "metadata": {
    "execution": {
     "iopub.execute_input": "2022-09-25T13:30:16.576146Z",
     "iopub.status.busy": "2022-09-25T13:30:16.575499Z",
     "iopub.status.idle": "2022-09-25T13:30:16.614330Z",
     "shell.execute_reply": "2022-09-25T13:30:16.611698Z"
    },
    "papermill": {
     "duration": 0.045713,
     "end_time": "2022-09-25T13:30:16.617342",
     "exception": false,
     "start_time": "2022-09-25T13:30:16.571629",
     "status": "completed"
    },
    "tags": []
   },
   "outputs": [
    {
     "data": {
      "text/html": [
       "<div>\n",
       "<style scoped>\n",
       "    .dataframe tbody tr th:only-of-type {\n",
       "        vertical-align: middle;\n",
       "    }\n",
       "\n",
       "    .dataframe tbody tr th {\n",
       "        vertical-align: top;\n",
       "    }\n",
       "\n",
       "    .dataframe thead th {\n",
       "        text-align: right;\n",
       "    }\n",
       "</style>\n",
       "<table border=\"1\" class=\"dataframe\">\n",
       "  <thead>\n",
       "    <tr style=\"text-align: right;\">\n",
       "      <th></th>\n",
       "      <th>seq_id</th>\n",
       "      <th>protein_sequence</th>\n",
       "      <th>pH</th>\n",
       "      <th>data_source</th>\n",
       "      <th>tm</th>\n",
       "    </tr>\n",
       "  </thead>\n",
       "  <tbody>\n",
       "    <tr>\n",
       "      <th>26508</th>\n",
       "      <td>26508</td>\n",
       "      <td>MSWALEEWKEGLPSRALQKIQELEGQLEKLKKEKQQRQFQLDSLEA...</td>\n",
       "      <td>7.0</td>\n",
       "      <td>doi.org/10.1038/s41592-020-0801-4</td>\n",
       "      <td>48.2</td>\n",
       "    </tr>\n",
       "    <tr>\n",
       "      <th>27083</th>\n",
       "      <td>27083</td>\n",
       "      <td>MTESVELMNKYGEPLRYDRNFTGPRQRDRSCTDVPCLLLFVLFLGG...</td>\n",
       "      <td>7.0</td>\n",
       "      <td>doi.org/10.1038/s41592-020-0801-4</td>\n",
       "      <td>44.3</td>\n",
       "    </tr>\n",
       "    <tr>\n",
       "      <th>21198</th>\n",
       "      <td>21198</td>\n",
       "      <td>MQIFVKTLTGKTITLEVEPSDTIENVKAQIQDKEGIPPDQQRLIFA...</td>\n",
       "      <td>5.0</td>\n",
       "      <td>NaN</td>\n",
       "      <td>25.0</td>\n",
       "    </tr>\n",
       "    <tr>\n",
       "      <th>28538</th>\n",
       "      <td>28538</td>\n",
       "      <td>MVGQQYSSAPLRTVKEVQFGLFSPEEVRAISVAKIRFPETMDETQT...</td>\n",
       "      <td>7.0</td>\n",
       "      <td>doi.org/10.1038/s41592-020-0801-4</td>\n",
       "      <td>49.4</td>\n",
       "    </tr>\n",
       "    <tr>\n",
       "      <th>26349</th>\n",
       "      <td>26349</td>\n",
       "      <td>MSVACVLKRKAVLWQDSFSPHLKHHPQEPANPNMPVVLTSGTGSQA...</td>\n",
       "      <td>7.0</td>\n",
       "      <td>doi.org/10.1038/s41592-020-0801-4</td>\n",
       "      <td>48.5</td>\n",
       "    </tr>\n",
       "    <tr>\n",
       "      <th>22136</th>\n",
       "      <td>22136</td>\n",
       "      <td>MRNTGAGPSPSVSRPPPSAAPLSGAALAAPGDAPSALYAPSALVLT...</td>\n",
       "      <td>6.9</td>\n",
       "      <td>NaN</td>\n",
       "      <td>53.4</td>\n",
       "    </tr>\n",
       "    <tr>\n",
       "      <th>1202</th>\n",
       "      <td>1202</td>\n",
       "      <td>EEIGSVDTVFKMIGPDHKIVVEAFDDPDVKNVTCYVSRAKTGGIKG...</td>\n",
       "      <td>7.0</td>\n",
       "      <td>doi.org/10.1038/s41592-020-0801-4</td>\n",
       "      <td>66.9</td>\n",
       "    </tr>\n",
       "    <tr>\n",
       "      <th>29211</th>\n",
       "      <td>29211</td>\n",
       "      <td>MVTQQEKEFLESYPQNCPPDALPGTPGNLDSAQEKALAELRKLLED...</td>\n",
       "      <td>7.0</td>\n",
       "      <td>doi.org/10.1038/s41592-020-0801-4</td>\n",
       "      <td>47.4</td>\n",
       "    </tr>\n",
       "    <tr>\n",
       "      <th>26313</th>\n",
       "      <td>26313</td>\n",
       "      <td>MSTSVPEKGGIFDALRVDSNDPNDSLREELCVTPKIDEKNLEYIGE...</td>\n",
       "      <td>7.0</td>\n",
       "      <td>doi.org/10.1038/s41592-020-0801-4</td>\n",
       "      <td>39.1</td>\n",
       "    </tr>\n",
       "    <tr>\n",
       "      <th>2411</th>\n",
       "      <td>2411</td>\n",
       "      <td>LALQAKQYGDFDRYVLALSWQTGFCQSQHDRNRNERDECRLQTETT...</td>\n",
       "      <td>7.0</td>\n",
       "      <td>doi.org/10.1038/s41592-020-0801-4</td>\n",
       "      <td>57.0</td>\n",
       "    </tr>\n",
       "  </tbody>\n",
       "</table>\n",
       "</div>"
      ],
      "text/plain": [
       "       seq_id                                   protein_sequence   pH  \\\n",
       "26508   26508  MSWALEEWKEGLPSRALQKIQELEGQLEKLKKEKQQRQFQLDSLEA...  7.0   \n",
       "27083   27083  MTESVELMNKYGEPLRYDRNFTGPRQRDRSCTDVPCLLLFVLFLGG...  7.0   \n",
       "21198   21198  MQIFVKTLTGKTITLEVEPSDTIENVKAQIQDKEGIPPDQQRLIFA...  5.0   \n",
       "28538   28538  MVGQQYSSAPLRTVKEVQFGLFSPEEVRAISVAKIRFPETMDETQT...  7.0   \n",
       "26349   26349  MSVACVLKRKAVLWQDSFSPHLKHHPQEPANPNMPVVLTSGTGSQA...  7.0   \n",
       "22136   22136  MRNTGAGPSPSVSRPPPSAAPLSGAALAAPGDAPSALYAPSALVLT...  6.9   \n",
       "1202     1202  EEIGSVDTVFKMIGPDHKIVVEAFDDPDVKNVTCYVSRAKTGGIKG...  7.0   \n",
       "29211   29211  MVTQQEKEFLESYPQNCPPDALPGTPGNLDSAQEKALAELRKLLED...  7.0   \n",
       "26313   26313  MSTSVPEKGGIFDALRVDSNDPNDSLREELCVTPKIDEKNLEYIGE...  7.0   \n",
       "2411     2411  LALQAKQYGDFDRYVLALSWQTGFCQSQHDRNRNERDECRLQTETT...  7.0   \n",
       "\n",
       "                             data_source    tm  \n",
       "26508  doi.org/10.1038/s41592-020-0801-4  48.2  \n",
       "27083  doi.org/10.1038/s41592-020-0801-4  44.3  \n",
       "21198                                NaN  25.0  \n",
       "28538  doi.org/10.1038/s41592-020-0801-4  49.4  \n",
       "26349  doi.org/10.1038/s41592-020-0801-4  48.5  \n",
       "22136                                NaN  53.4  \n",
       "1202   doi.org/10.1038/s41592-020-0801-4  66.9  \n",
       "29211  doi.org/10.1038/s41592-020-0801-4  47.4  \n",
       "26313  doi.org/10.1038/s41592-020-0801-4  39.1  \n",
       "2411   doi.org/10.1038/s41592-020-0801-4  57.0  "
      ]
     },
     "execution_count": 4,
     "metadata": {},
     "output_type": "execute_result"
    }
   ],
   "source": [
    "enzymes_train.sample(10)"
   ]
  }
 ],
 "metadata": {
  "kernelspec": {
   "display_name": "Python 3",
   "language": "python",
   "name": "python3"
  },
  "language_info": {
   "codemirror_mode": {
    "name": "ipython",
    "version": 3
   },
   "file_extension": ".py",
   "mimetype": "text/x-python",
   "name": "python",
   "nbconvert_exporter": "python",
   "pygments_lexer": "ipython3",
   "version": "3.7.12"
  },
  "papermill": {
   "default_parameters": {},
   "duration": 11.316762,
   "end_time": "2022-09-25T13:30:17.445691",
   "environment_variables": {},
   "exception": null,
   "input_path": "__notebook__.ipynb",
   "output_path": "__notebook__.ipynb",
   "parameters": {},
   "start_time": "2022-09-25T13:30:06.128929",
   "version": "2.3.4"
  }
 },
 "nbformat": 4,
 "nbformat_minor": 5
}
